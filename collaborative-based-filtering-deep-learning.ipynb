{
 "cells": [
  {
   "cell_type": "markdown",
   "id": "d138fcaf-207c-4e6a-9074-e4d747fc1fab",
   "metadata": {},
   "source": [
    "## Deep learning\n",
    "\n",
    "Automatically learn complex & non-linear patterns from diverse data types"
   ]
  },
  {
   "cell_type": "markdown",
   "id": "b7a552ed-3465-4d2b-b0d9-65c3d3bcea8b",
   "metadata": {},
   "source": [
    "### Autoencoder\n",
    "Self-supervised neural network architectures that has an encoder and a decoder, aiming for the outputs to be identical to the inputs  "
   ]
  },
  {
   "cell_type": "code",
   "execution_count": 1,
   "id": "42629118-5268-4ecf-b2d6-c2f3e7e1577e",
   "metadata": {},
   "outputs": [
    {
     "name": "stderr",
     "output_type": "stream",
     "text": [
      "2024-02-22 10:51:21.145719: I tensorflow/core/platform/cpu_feature_guard.cc:182] This TensorFlow binary is optimized to use available CPU instructions in performance-critical operations.\n",
      "To enable the following instructions: SSE4.1 SSE4.2 AVX AVX2 FMA, in other operations, rebuild TensorFlow with the appropriate compiler flags.\n"
     ]
    }
   ],
   "source": [
    "import numpy as np\n",
    "import pandas as pd\n",
    "from sklearn.model_selection import train_test_split\n",
    "from tensorflow.keras.layers import Input, Dense\n",
    "from tensorflow.keras.models import Model"
   ]
  },
  {
   "cell_type": "code",
   "execution_count": 2,
   "id": "298002df-fcfc-44c0-8f00-f8234aee21fc",
   "metadata": {},
   "outputs": [],
   "source": [
    "# Load the dataset\n",
    "\n",
    "file_path = 'ml-1m/ratings.dat'\n",
    "columns = ['user_id','item_id','rating','timestamp']\n",
    "df = pd.read_csv(file_path, sep='\\t', names=columns)"
   ]
  },
  {
   "cell_type": "code",
   "execution_count": 3,
   "id": "5438dd37-0500-4716-9461-a3e21856706d",
   "metadata": {},
   "outputs": [],
   "source": [
    "# Create user-item interaction matrix\n",
    "\n",
    "user_item_matrix = df.pivot(index='user_id', columns='item_id', values='rating')"
   ]
  },
  {
   "cell_type": "code",
   "execution_count": 4,
   "id": "fa257416-47ae-48e9-bdf6-650fd4d97a2e",
   "metadata": {},
   "outputs": [],
   "source": [
    "# Split the data into training and testing sets\n",
    "\n",
    "train_data, test_data = train_test_split(user_item_matrix, test_size=0.2, random_state=42)"
   ]
  },
  {
   "cell_type": "code",
   "execution_count": 6,
   "id": "e7947fd5-b408-4055-94df-cbc691341623",
   "metadata": {},
   "outputs": [],
   "source": [
    "# Build the autoencoder model\n",
    "\n",
    "num_users, num_items = user_item_matrix.shape\n",
    "latent_dim = 50\n",
    "\n",
    "input_layer = Input(shape=(num_items,))\n",
    "encoded = Dense(latent_dim, activation='relu')(input_layer)\n",
    "decoded = Dense(num_items, activation='sigmoid')(encoded)\n",
    "\n",
    "autoencoder = Model(inputs=input_layer, outputs=decoded)\n",
    "autoencoder.compile(optimizer='adam', loss='mean_squared_error')"
   ]
  },
  {
   "cell_type": "code",
   "execution_count": 8,
   "id": "169b1203-879e-41b0-974c-8d6dabe71c15",
   "metadata": {},
   "outputs": [
    {
     "name": "stdout",
     "output_type": "stream",
     "text": [
      "Epoch 1/10\n",
      "12503/12503 [==============================] - 22s 2ms/step - loss: nan - val_loss: nan\n",
      "Epoch 2/10\n",
      "12503/12503 [==============================] - 22s 2ms/step - loss: nan - val_loss: nan\n",
      "Epoch 3/10\n",
      "12503/12503 [==============================] - 18s 1ms/step - loss: nan - val_loss: nan\n",
      "Epoch 4/10\n",
      "12503/12503 [==============================] - 19s 1ms/step - loss: nan - val_loss: nan\n",
      "Epoch 5/10\n",
      "12503/12503 [==============================] - 19s 2ms/step - loss: nan - val_loss: nan\n",
      "Epoch 6/10\n",
      "12503/12503 [==============================] - 20s 2ms/step - loss: nan - val_loss: nan\n",
      "Epoch 7/10\n",
      "12503/12503 [==============================] - 19s 2ms/step - loss: nan - val_loss: nan\n",
      "Epoch 8/10\n",
      "12503/12503 [==============================] - 19s 2ms/step - loss: nan - val_loss: nan\n",
      "Epoch 9/10\n",
      "12503/12503 [==============================] - 21s 2ms/step - loss: nan - val_loss: nan\n",
      "Epoch 10/10\n",
      "12503/12503 [==============================] - 20s 2ms/step - loss: nan - val_loss: nan\n"
     ]
    },
    {
     "data": {
      "text/plain": [
       "<keras.src.callbacks.History at 0x141032110>"
      ]
     },
     "execution_count": 8,
     "metadata": {},
     "output_type": "execute_result"
    }
   ],
   "source": [
    "# Train the autoencoder\n",
    "\n",
    "autoencoder.fit(train_data, train_data, epochs=10, batch_size=64, shuffle=True, validation_data=(test_data, test_data))"
   ]
  },
  {
   "cell_type": "code",
   "execution_count": 9,
   "id": "53d9eafd-40a3-434f-a825-b2d7336c6d15",
   "metadata": {},
   "outputs": [
    {
     "name": "stdout",
     "output_type": "stream",
     "text": [
      "31257/31257 [==============================] - 35s 1ms/step\n"
     ]
    }
   ],
   "source": [
    "# Extract user and item representations from the encoder part of the autoencoder\n",
    "\n",
    "encoder = Model(inputs=input_layer, outputs=encoded)\n",
    "user_embeddings = encoder.predict(user_item_matrix)"
   ]
  },
  {
   "cell_type": "code",
   "execution_count": 10,
   "id": "8909d5c4-012d-400d-ada0-b0625807677f",
   "metadata": {},
   "outputs": [],
   "source": [
    "# Example: Recommend items for a specific user\n",
    "\n",
    "user_id = 1   # replace with the desrired user id\n",
    "user_representation = user_embeddings[user_id -1]"
   ]
  },
  {
   "cell_type": "code",
   "execution_count": 11,
   "id": "40c7a80a-81e8-40cf-a955-fb6872cb7d98",
   "metadata": {},
   "outputs": [],
   "source": [
    "# Calculate the predicted ratings of all times\n",
    "\n",
    "predicted_ratings = np.dot(user_embeddings, user_representation)"
   ]
  },
  {
   "cell_type": "code",
   "execution_count": 12,
   "id": "b527c8a0-afb6-4f1c-8ea8-ce04abdc14e4",
   "metadata": {},
   "outputs": [
    {
     "name": "stdout",
     "output_type": "stream",
     "text": [
      "Top recommendations for User 1: [1000209  333412  333410  333409  333408  333407  333406  333405  333404\n",
      "  333403]\n"
     ]
    }
   ],
   "source": [
    "# Display top N recommendations\n",
    "\n",
    "top_n = np.argsort(predicted_ratings)[::-1][:10]\n",
    "print(f'Top recommendations for User {user_id}: {top_n +1}')"
   ]
  },
  {
   "cell_type": "markdown",
   "id": "1f467da7-dbb2-4212-a7cf-7efec1a5001b",
   "metadata": {},
   "source": [
    "### Restricted Boltzmann Machine (RBM)\n",
    "- a type of stochastic artificial neural network with no output layer"
   ]
  },
  {
   "cell_type": "code",
   "execution_count": 13,
   "id": "0f522cc4-9632-433c-a982-57eeca42c062",
   "metadata": {},
   "outputs": [],
   "source": [
    "import numpy as np\n",
    "import pandas as pd\n",
    "\n",
    "from sklearn.model_selection import train_test_split\n",
    "import tensorflow as tf\n",
    "from tensorflow.keras.layers import Input, Dense\n",
    "from tensorflow.keras.models import Model\n",
    "from tensorflow.keras.optimizers import Adam"
   ]
  },
  {
   "cell_type": "code",
   "execution_count": 14,
   "id": "17cb95eb-9607-40db-aec5-f2b3a985bfbf",
   "metadata": {},
   "outputs": [],
   "source": [
    "# Load the dataset\n",
    "\n",
    "file_path = 'ml-1m/ratings.dat'\n",
    "columns = ['user_id','item_id','rating','timestamp']\n",
    "df = pd.read_csv(file_path, sep='\\t', names=columns)"
   ]
  },
  {
   "cell_type": "code",
   "execution_count": 15,
   "id": "91df8f7d-f1fd-441e-b7c8-ec88638d9f25",
   "metadata": {},
   "outputs": [],
   "source": [
    "# Create user-item interaction matrix\n",
    "\n",
    "user_item_matrix = df.pivot(index='user_id', columns='item_id', values='rating')"
   ]
  },
  {
   "cell_type": "code",
   "execution_count": 20,
   "id": "35d5a778-2ab8-4fa7-980c-cbb663c9f250",
   "metadata": {},
   "outputs": [],
   "source": [
    "# Binarize the ratings (0 if not rated, 1 if rated)\n",
    "\n",
    "user_item_matrix_binary = (user_item_matrix > 0).astype(float)"
   ]
  },
  {
   "cell_type": "code",
   "execution_count": 21,
   "id": "ace77a32-8de5-406b-9405-8584c598f699",
   "metadata": {},
   "outputs": [],
   "source": [
    "# Split the data into training and testing datas\n",
    "\n",
    "train_data, test_data = train_test_split(user_item_matrix_binary, test_size=0.2, random_state=42)"
   ]
  },
  {
   "cell_type": "code",
   "execution_count": 22,
   "id": "a4774329-47a3-4106-927c-8426ee719153",
   "metadata": {},
   "outputs": [],
   "source": [
    "# RBM parameters\n",
    "\n",
    "num_visible = num_items = user_item_matrix_binary.shape[1]\n",
    "num_hidden = 50\n",
    "batch_size = 64\n",
    "epochs = 10"
   ]
  },
  {
   "cell_type": "code",
   "execution_count": 23,
   "id": "7cc649aa-a9f4-457a-a8b3-7205ba4bb23d",
   "metadata": {},
   "outputs": [],
   "source": [
    "# Build the RBM model\n",
    "\n",
    "visible_layer = Input(shape=(num_visible,))\n",
    "hidden_layer = Dense(num_hidden, activation='sigmoid')(visible_layer)\n",
    "visible_layer_reconstruction = Dense(num_visible, activation='sigmoid')(hidden_layer)\n",
    "\n",
    "rbm = Model(inputs=visible_layer, outputs=visible_layer_reconstruction)\n",
    "rbm.compile(optimizer=Adam(learning_rate=0.001), loss='mean_squared_error')"
   ]
  },
  {
   "cell_type": "code",
   "execution_count": 24,
   "id": "08b8e484-e240-4a3c-a462-26d98cd395f5",
   "metadata": {},
   "outputs": [
    {
     "name": "stdout",
     "output_type": "stream",
     "text": [
      "Epoch 1/10\n",
      "12503/12503 [==============================] - 20s 2ms/step - loss: 3.1763e-04 - val_loss: 1.0936e-07\n",
      "Epoch 2/10\n",
      "12503/12503 [==============================] - 24s 2ms/step - loss: 1.7597e-08 - val_loss: 4.8047e-10\n",
      "Epoch 3/10\n",
      "12503/12503 [==============================] - 20s 2ms/step - loss: 1.9258e-10 - val_loss: 9.0298e-11\n",
      "Epoch 4/10\n",
      "12503/12503 [==============================] - 20s 2ms/step - loss: 6.5273e-11 - val_loss: 4.8682e-11\n",
      "Epoch 5/10\n",
      "12503/12503 [==============================] - 21s 2ms/step - loss: 4.0031e-11 - val_loss: 3.3312e-11\n",
      "Epoch 6/10\n",
      "12503/12503 [==============================] - 20s 2ms/step - loss: 2.8957e-11 - val_loss: 2.5340e-11\n",
      "Epoch 7/10\n",
      "12503/12503 [==============================] - 20s 2ms/step - loss: 2.2699e-11 - val_loss: 2.0441e-11\n",
      "Epoch 8/10\n",
      "12503/12503 [==============================] - 20s 2ms/step - loss: 1.8660e-11 - val_loss: 1.7075e-11\n",
      "Epoch 9/10\n",
      "12503/12503 [==============================] - 21s 2ms/step - loss: 1.5863e-11 - val_loss: 1.4743e-11\n",
      "Epoch 10/10\n",
      "12503/12503 [==============================] - 21s 2ms/step - loss: 1.3779e-11 - val_loss: 1.2881e-11\n"
     ]
    },
    {
     "data": {
      "text/plain": [
       "<keras.src.callbacks.History at 0x13fdd2cd0>"
      ]
     },
     "execution_count": 24,
     "metadata": {},
     "output_type": "execute_result"
    }
   ],
   "source": [
    "# Train the RBM\n",
    "\n",
    "rbm.fit(train_data, train_data, epochs=epochs, batch_size=batch_size, shuffle=True, validation_data=(test_data, test_data))"
   ]
  },
  {
   "cell_type": "code",
   "execution_count": 26,
   "id": "fcfc0f25-1c46-4cbf-b443-7ffd31ab4bbd",
   "metadata": {},
   "outputs": [],
   "source": [
    "# Extract user and item representations from the hidden layer\n",
    "\n",
    "user_embeddings = rbm.layers[1].get_weights()[0].T\n",
    "item_embdeddings = rbm.layers[1].get_weights()[0]"
   ]
  },
  {
   "cell_type": "code",
   "execution_count": 28,
   "id": "1b448a67-ee3f-4add-afd4-383bb29c0cd4",
   "metadata": {},
   "outputs": [],
   "source": [
    "# Example: Recommend items for a specific user\n",
    "\n",
    "user_id = 1  # replace with the sdesired user ID\n",
    "user_representation = user_embeddings[user_id - 1]"
   ]
  },
  {
   "cell_type": "code",
   "execution_count": 29,
   "id": "77f2a204-4fce-4963-82cb-c74583f9b494",
   "metadata": {},
   "outputs": [],
   "source": [
    "# Calculate the predicted ratings for all items\n",
    "\n",
    "predicted_ratings = np.dot(user_embeddings, user_representation)"
   ]
  },
  {
   "cell_type": "code",
   "execution_count": 30,
   "id": "49a91313-54f0-43c0-9c93-1f0bcda1c7ab",
   "metadata": {},
   "outputs": [
    {
     "name": "stdout",
     "output_type": "stream",
     "text": [
      "Top recommendations for User 1: [42  2  9 48 18  3 41 22 19 27]\n"
     ]
    }
   ],
   "source": [
    "# Display top N recommendations\n",
    "\n",
    "top_n = np.argsort(predicted_ratings)[::-1][:10]\n",
    "print(f'Top recommendations for User {user_id}: {top_n +1}')"
   ]
  },
  {
   "cell_type": "code",
   "execution_count": null,
   "id": "87dcc9e4-0057-4687-82f0-f4a290e67214",
   "metadata": {},
   "outputs": [],
   "source": []
  }
 ],
 "metadata": {
  "kernelspec": {
   "display_name": "Python 3 (ipykernel)",
   "language": "python",
   "name": "python3"
  },
  "language_info": {
   "codemirror_mode": {
    "name": "ipython",
    "version": 3
   },
   "file_extension": ".py",
   "mimetype": "text/x-python",
   "name": "python",
   "nbconvert_exporter": "python",
   "pygments_lexer": "ipython3",
   "version": "3.11.7"
  }
 },
 "nbformat": 4,
 "nbformat_minor": 5
}
