{
 "cells": [
  {
   "cell_type": "markdown",
   "id": "8d55d1f0",
   "metadata": {},
   "source": [
    "## k-Nearest Neighbors "
   ]
  },
  {
   "cell_type": "markdown",
   "id": "7e88e261",
   "metadata": {},
   "source": [
    "### User-based filtering\n",
    "Calculate similarities between users and predict preferences based on similar users' preferences"
   ]
  },
  {
   "cell_type": "code",
   "execution_count": 1,
   "id": "e3e14b29",
   "metadata": {},
   "outputs": [],
   "source": [
    "from surprise import Dataset, Reader, KNNBasic\n",
    "from surprise.model_selection import cross_validate\n",
    "import os"
   ]
  },
  {
   "cell_type": "code",
   "execution_count": 2,
   "id": "d95a71e4",
   "metadata": {},
   "outputs": [],
   "source": [
    "# Path to dataset folder\n",
    "\n",
    "file_path = os.path.expanduser('ml-1m/ratings.dat')"
   ]
  },
  {
   "cell_type": "code",
   "execution_count": 13,
   "id": "a5f87b3e-53b0-4abc-afcc-0a756714eb0b",
   "metadata": {},
   "outputs": [
    {
     "name": "stdout",
     "output_type": "stream",
     "text": [
      "Computing the cosine similarity matrix...\n",
      "Done computing similarity matrix.\n"
     ]
    }
   ],
   "source": [
    "# Define a reader\n",
    "# 'user item rating timestamp' are each separated by '::' characters\n",
    "\n",
    "columns = ['user_id','item_id','rating','timestamp']\n",
    "reader = Reader(line_format = 'user item rating timestamp', sep='::')\n",
    "\n",
    "data = Dataset.load_from_file(file_path, reader=reader)\n",
    "trainset = data.build_full_trainset()\n",
    "\n",
    "sim_options = {'name': 'cosine', 'user_based': True}\n",
    "knn_model = KNNBasic(sim_options = sim_options)\n",
    "\n",
    "knn_model.fit(trainset)\n",
    "\n",
    "# Replace user id\n",
    "user_id = str(196)"
   ]
  },
  {
   "cell_type": "code",
   "execution_count": 14,
   "id": "9757a4e0-5f14-45f2-8983-2459ef3c32a4",
   "metadata": {},
   "outputs": [],
   "source": [
    "# Get items that the user has not rated\n",
    "items_to_predict = [(user_id, iid, 4.0) for iid in trainset.all_items() if iid not in trainset.ur[trainset.to_inner_uid(user_id)]]"
   ]
  },
  {
   "cell_type": "code",
   "execution_count": 15,
   "id": "92d88997-1de2-4094-9bc0-5f4f7f2e4249",
   "metadata": {},
   "outputs": [],
   "source": [
    "# Get top N recommendations for the user\n",
    "top_n = knn_model.test(items_to_predict)[0:11]"
   ]
  },
  {
   "cell_type": "code",
   "execution_count": 16,
   "id": "9379d665-16de-4f37-9bfa-93c429f735f7",
   "metadata": {},
   "outputs": [
    {
     "name": "stdout",
     "output_type": "stream",
     "text": [
      "User 196 -> Item 0 (Predicted rating: 3.58)\n",
      "User 196 -> Item 1 (Predicted rating: 3.58)\n",
      "User 196 -> Item 2 (Predicted rating: 3.58)\n",
      "User 196 -> Item 3 (Predicted rating: 3.58)\n",
      "User 196 -> Item 4 (Predicted rating: 3.58)\n",
      "User 196 -> Item 5 (Predicted rating: 3.58)\n",
      "User 196 -> Item 6 (Predicted rating: 3.58)\n",
      "User 196 -> Item 7 (Predicted rating: 3.58)\n",
      "User 196 -> Item 8 (Predicted rating: 3.58)\n",
      "User 196 -> Item 9 (Predicted rating: 3.58)\n",
      "User 196 -> Item 10 (Predicted rating: 3.58)\n"
     ]
    }
   ],
   "source": [
    "# Display the top N recommendations\n",
    "for uid, iid, true_r, est, _ in top_n:\n",
    "    print(f'User {uid} -> Item {iid} (Predicted rating: {est:.2f})')"
   ]
  },
  {
   "cell_type": "markdown",
   "id": "33c4eaa3-4c91-4062-85c0-885254891b3f",
   "metadata": {},
   "source": [
    "## Item-based filtering\n",
    "Calculate similarities between items and predict preferences based on the preferences of similar items"
   ]
  },
  {
   "cell_type": "markdown",
   "id": "480f5550-821f-4897-9ed7-25ac436e5951",
   "metadata": {},
   "source": [
    "The code below is the exact same code as above, except for the modification of the 'user_based' parameter is now set to False"
   ]
  },
  {
   "cell_type": "code",
   "execution_count": 17,
   "id": "8213b7f2-93e0-4f44-8cd7-4eed719e2942",
   "metadata": {},
   "outputs": [
    {
     "name": "stdout",
     "output_type": "stream",
     "text": [
      "Computing the cosine similarity matrix...\n",
      "Done computing similarity matrix.\n"
     ]
    }
   ],
   "source": [
    "# Define a reader\n",
    "# 'user item rating timestamp' are each separated by '::' characters\n",
    "\n",
    "columns = ['user_id','item_id','rating','timestamp']\n",
    "reader = Reader(line_format = 'user item rating timestamp', sep='::')\n",
    "\n",
    "data = Dataset.load_from_file(file_path, reader=reader)\n",
    "trainset = data.build_full_trainset()\n",
    "\n",
    "sim_options = {'name': 'cosine', 'user_based': False}\n",
    "knn_model = KNNBasic(sim_options = sim_options)\n",
    "\n",
    "knn_model.fit(trainset)\n",
    "\n",
    "# Replace user id\n",
    "user_id = str(196)"
   ]
  },
  {
   "cell_type": "code",
   "execution_count": 18,
   "id": "213bff32-8317-4417-a0cd-c3e620a70e55",
   "metadata": {},
   "outputs": [],
   "source": [
    "# Get items that the user has not rated\n",
    "items_to_predict = [(user_id, iid, 4.0) for iid in trainset.all_items() if iid not in trainset.ur[trainset.to_inner_uid(user_id)]]"
   ]
  },
  {
   "cell_type": "code",
   "execution_count": 19,
   "id": "3522e356-72f0-4c09-b58e-c0c737cbdfaf",
   "metadata": {},
   "outputs": [],
   "source": [
    "# Get top N recommendations for the user\n",
    "top_n = knn_model.test(items_to_predict)[0:11]"
   ]
  },
  {
   "cell_type": "code",
   "execution_count": 20,
   "id": "9cf92b5a-8c33-4c60-b190-e3834cba7eac",
   "metadata": {},
   "outputs": [
    {
     "name": "stdout",
     "output_type": "stream",
     "text": [
      "User 196 -> Item 0 (Predicted rating: 3.58)\n",
      "User 196 -> Item 1 (Predicted rating: 3.58)\n",
      "User 196 -> Item 2 (Predicted rating: 3.58)\n",
      "User 196 -> Item 3 (Predicted rating: 3.58)\n",
      "User 196 -> Item 4 (Predicted rating: 3.58)\n",
      "User 196 -> Item 5 (Predicted rating: 3.58)\n",
      "User 196 -> Item 6 (Predicted rating: 3.58)\n",
      "User 196 -> Item 7 (Predicted rating: 3.58)\n",
      "User 196 -> Item 8 (Predicted rating: 3.58)\n",
      "User 196 -> Item 9 (Predicted rating: 3.58)\n",
      "User 196 -> Item 10 (Predicted rating: 3.58)\n"
     ]
    }
   ],
   "source": [
    "# Display the top N recommendations\n",
    "for uid, iid, true_r, est, _ in top_n:\n",
    "    print(f'User {uid} -> Item {iid} (Predicted rating: {est:.2f})')"
   ]
  },
  {
   "cell_type": "code",
   "execution_count": null,
   "id": "27d9bf2e-be24-4216-8b1b-3489bfc001bb",
   "metadata": {},
   "outputs": [],
   "source": []
  }
 ],
 "metadata": {
  "kernelspec": {
   "display_name": "Python 3 (ipykernel)",
   "language": "python",
   "name": "python3"
  },
  "language_info": {
   "codemirror_mode": {
    "name": "ipython",
    "version": 3
   },
   "file_extension": ".py",
   "mimetype": "text/x-python",
   "name": "python",
   "nbconvert_exporter": "python",
   "pygments_lexer": "ipython3",
   "version": "3.11.7"
  }
 },
 "nbformat": 4,
 "nbformat_minor": 5
}
